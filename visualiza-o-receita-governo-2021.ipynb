{
 "cells": [
  {
   "cell_type": "markdown",
   "id": "c2e74462",
   "metadata": {
    "papermill": {
     "duration": 0.014597,
     "end_time": "2023-08-29T23:23:13.305142",
     "exception": false,
     "start_time": "2023-08-29T23:23:13.290545",
     "status": "completed"
    },
    "tags": []
   },
   "source": [
    "# Esse trabalho visa realizar uma análise exploratória da receita do governo brasileiro em 2021. "
   ]
  },
  {
   "cell_type": "code",
   "execution_count": 1,
   "id": "dee071fa",
   "metadata": {
    "execution": {
     "iopub.execute_input": "2023-08-29T23:23:13.335396Z",
     "iopub.status.busy": "2023-08-29T23:23:13.334161Z",
     "iopub.status.idle": "2023-08-29T23:23:13.352878Z",
     "shell.execute_reply": "2023-08-29T23:23:13.351752Z"
    },
    "papermill": {
     "duration": 0.037493,
     "end_time": "2023-08-29T23:23:13.356199",
     "exception": false,
     "start_time": "2023-08-29T23:23:13.318706",
     "status": "completed"
    },
    "tags": []
   },
   "outputs": [],
   "source": [
    "import pandas as pd"
   ]
  },
  {
   "cell_type": "code",
   "execution_count": 2,
   "id": "25e96d59",
   "metadata": {
    "execution": {
     "iopub.execute_input": "2023-08-29T23:23:13.384346Z",
     "iopub.status.busy": "2023-08-29T23:23:13.383772Z",
     "iopub.status.idle": "2023-08-29T23:23:14.665811Z",
     "shell.execute_reply": "2023-08-29T23:23:14.664307Z"
    },
    "papermill": {
     "duration": 1.300609,
     "end_time": "2023-08-29T23:23:14.669483",
     "exception": false,
     "start_time": "2023-08-29T23:23:13.368874",
     "status": "completed"
    },
    "tags": []
   },
   "outputs": [
    {
     "data": {
      "text/html": [
       "<div>\n",
       "<style scoped>\n",
       "    .dataframe tbody tr th:only-of-type {\n",
       "        vertical-align: middle;\n",
       "    }\n",
       "\n",
       "    .dataframe tbody tr th {\n",
       "        vertical-align: top;\n",
       "    }\n",
       "\n",
       "    .dataframe thead th {\n",
       "        text-align: right;\n",
       "    }\n",
       "</style>\n",
       "<table border=\"1\" class=\"dataframe\">\n",
       "  <thead>\n",
       "    <tr style=\"text-align: right;\">\n",
       "      <th></th>\n",
       "      <th>CÓDIGO ÓRGÃO SUPERIOR</th>\n",
       "      <th>NOME ÓRGÃO SUPERIOR</th>\n",
       "      <th>CÓDIGO ÓRGÃO</th>\n",
       "      <th>NOME ÓRGÃO</th>\n",
       "      <th>CÓDIGO UNIDADE GESTORA</th>\n",
       "      <th>NOME UNIDADE GESTORA</th>\n",
       "      <th>CATEGORIA ECONÔMICA</th>\n",
       "      <th>ORIGEM RECEITA</th>\n",
       "      <th>ESPÉCIE RECEITA</th>\n",
       "      <th>DETALHAMENTO</th>\n",
       "      <th>VALOR PREVISTO ATUALIZADO</th>\n",
       "      <th>VALOR LANÇADO</th>\n",
       "      <th>VALOR REALIZADO</th>\n",
       "      <th>PERCENTUAL REALIZADO</th>\n",
       "      <th>DATA LANÇAMENTO</th>\n",
       "      <th>ANO EXERCÍCIO</th>\n",
       "    </tr>\n",
       "  </thead>\n",
       "  <tbody>\n",
       "    <tr>\n",
       "      <th>0</th>\n",
       "      <td>63000</td>\n",
       "      <td>Advocacia-Geral da União</td>\n",
       "      <td>63000</td>\n",
       "      <td>Advocacia-Geral da União - Unidades com víncul...</td>\n",
       "      <td>110060</td>\n",
       "      <td>COORD. GERAL DE ORC. FIN. E ANAL. CONT. - AGU</td>\n",
       "      <td>Receitas de Capital</td>\n",
       "      <td>Operações de Crédito</td>\n",
       "      <td>Operações de crédito - mercado interno</td>\n",
       "      <td>TITULOS DE RESPONS.TES.NAC.-MERC.INT.-PRINC.</td>\n",
       "      <td>2224034904,00</td>\n",
       "      <td>0,00</td>\n",
       "      <td>0,00</td>\n",
       "      <td>0,00</td>\n",
       "      <td>23/04/2021</td>\n",
       "      <td>2021</td>\n",
       "    </tr>\n",
       "    <tr>\n",
       "      <th>1</th>\n",
       "      <td>63000</td>\n",
       "      <td>Advocacia-Geral da União</td>\n",
       "      <td>63000</td>\n",
       "      <td>Advocacia-Geral da União - Unidades com víncul...</td>\n",
       "      <td>110060</td>\n",
       "      <td>COORD. GERAL DE ORC. FIN. E ANAL. CONT. - AGU</td>\n",
       "      <td>Receitas Correntes</td>\n",
       "      <td>Receitas Correntes - a classificar</td>\n",
       "      <td>Receitas Correntes - a classificar</td>\n",
       "      <td>Receitas Correntes - a classificar</td>\n",
       "      <td>0,00</td>\n",
       "      <td>0,00</td>\n",
       "      <td>0,00</td>\n",
       "      <td>0,00</td>\n",
       "      <td>16/04/2021</td>\n",
       "      <td>2021</td>\n",
       "    </tr>\n",
       "    <tr>\n",
       "      <th>2</th>\n",
       "      <td>37000</td>\n",
       "      <td>Controladoria-Geral da União</td>\n",
       "      <td>37000</td>\n",
       "      <td>Controladoria-Geral da União - Unidades com ví...</td>\n",
       "      <td>370001</td>\n",
       "      <td>DIRETORIA DE GESTAO INTERNA(CGU)</td>\n",
       "      <td>Receitas de Capital</td>\n",
       "      <td>Operações de Crédito</td>\n",
       "      <td>Operações de crédito - mercado interno</td>\n",
       "      <td>TITULOS DE RESPONS.TES.NAC.-MERC.INT.-PRINC.</td>\n",
       "      <td>608888110,00</td>\n",
       "      <td>0,00</td>\n",
       "      <td>0,00</td>\n",
       "      <td>0,00</td>\n",
       "      <td>23/04/2021</td>\n",
       "      <td>2021</td>\n",
       "    </tr>\n",
       "    <tr>\n",
       "      <th>3</th>\n",
       "      <td>22000</td>\n",
       "      <td>Ministério da Agricultura, Pecuária e Abastec</td>\n",
       "      <td>22211</td>\n",
       "      <td>Companhia Nacional de Abastecimento</td>\n",
       "      <td>135100</td>\n",
       "      <td>COMPANHIA NACIONAL DE ABASTECIMENTO</td>\n",
       "      <td>Receitas Correntes</td>\n",
       "      <td>Receita de Serviços</td>\n",
       "      <td>Serviços Administrativos e Comerciais Gerais</td>\n",
       "      <td>SERV.ADMINISTRAT.E COMERCIAIS GERAIS-MUL.JUR.</td>\n",
       "      <td>0,00</td>\n",
       "      <td>0,00</td>\n",
       "      <td>160,25</td>\n",
       "      <td>0,00</td>\n",
       "      <td>26/01/2021</td>\n",
       "      <td>2021</td>\n",
       "    </tr>\n",
       "    <tr>\n",
       "      <th>4</th>\n",
       "      <td>22000</td>\n",
       "      <td>Ministério da Agricultura, Pecuária e Abastec</td>\n",
       "      <td>22211</td>\n",
       "      <td>Companhia Nacional de Abastecimento</td>\n",
       "      <td>135100</td>\n",
       "      <td>COMPANHIA NACIONAL DE ABASTECIMENTO</td>\n",
       "      <td>Receitas Correntes</td>\n",
       "      <td>Receita de Serviços</td>\n",
       "      <td>Serviços Administrativos e Comerciais Gerais</td>\n",
       "      <td>SERV.ADMINISTRAT.E COMERCIAIS GERAIS-MUL.JUR.</td>\n",
       "      <td>0,00</td>\n",
       "      <td>0,00</td>\n",
       "      <td>511,43</td>\n",
       "      <td>0,00</td>\n",
       "      <td>16/03/2021</td>\n",
       "      <td>2021</td>\n",
       "    </tr>\n",
       "  </tbody>\n",
       "</table>\n",
       "</div>"
      ],
      "text/plain": [
       "   CÓDIGO ÓRGÃO SUPERIOR                            NOME ÓRGÃO SUPERIOR  \\\n",
       "0                  63000                       Advocacia-Geral da União   \n",
       "1                  63000                       Advocacia-Geral da União   \n",
       "2                  37000                   Controladoria-Geral da União   \n",
       "3                  22000  Ministério da Agricultura, Pecuária e Abastec   \n",
       "4                  22000  Ministério da Agricultura, Pecuária e Abastec   \n",
       "\n",
       "   CÓDIGO ÓRGÃO                                         NOME ÓRGÃO  \\\n",
       "0         63000  Advocacia-Geral da União - Unidades com víncul...   \n",
       "1         63000  Advocacia-Geral da União - Unidades com víncul...   \n",
       "2         37000  Controladoria-Geral da União - Unidades com ví...   \n",
       "3         22211                Companhia Nacional de Abastecimento   \n",
       "4         22211                Companhia Nacional de Abastecimento   \n",
       "\n",
       "   CÓDIGO UNIDADE GESTORA                           NOME UNIDADE GESTORA  \\\n",
       "0                  110060  COORD. GERAL DE ORC. FIN. E ANAL. CONT. - AGU   \n",
       "1                  110060  COORD. GERAL DE ORC. FIN. E ANAL. CONT. - AGU   \n",
       "2                  370001               DIRETORIA DE GESTAO INTERNA(CGU)   \n",
       "3                  135100            COMPANHIA NACIONAL DE ABASTECIMENTO   \n",
       "4                  135100            COMPANHIA NACIONAL DE ABASTECIMENTO   \n",
       "\n",
       "   CATEGORIA ECONÔMICA                      ORIGEM RECEITA  \\\n",
       "0  Receitas de Capital                Operações de Crédito   \n",
       "1   Receitas Correntes  Receitas Correntes - a classificar   \n",
       "2  Receitas de Capital                Operações de Crédito   \n",
       "3   Receitas Correntes                 Receita de Serviços   \n",
       "4   Receitas Correntes                 Receita de Serviços   \n",
       "\n",
       "                                ESPÉCIE RECEITA  \\\n",
       "0        Operações de crédito - mercado interno   \n",
       "1            Receitas Correntes - a classificar   \n",
       "2        Operações de crédito - mercado interno   \n",
       "3  Serviços Administrativos e Comerciais Gerais   \n",
       "4  Serviços Administrativos e Comerciais Gerais   \n",
       "\n",
       "                                    DETALHAMENTO VALOR PREVISTO ATUALIZADO  \\\n",
       "0   TITULOS DE RESPONS.TES.NAC.-MERC.INT.-PRINC.             2224034904,00   \n",
       "1             Receitas Correntes - a classificar                      0,00   \n",
       "2   TITULOS DE RESPONS.TES.NAC.-MERC.INT.-PRINC.              608888110,00   \n",
       "3  SERV.ADMINISTRAT.E COMERCIAIS GERAIS-MUL.JUR.                      0,00   \n",
       "4  SERV.ADMINISTRAT.E COMERCIAIS GERAIS-MUL.JUR.                      0,00   \n",
       "\n",
       "  VALOR LANÇADO VALOR REALIZADO PERCENTUAL REALIZADO DATA LANÇAMENTO  \\\n",
       "0          0,00            0,00                 0,00      23/04/2021   \n",
       "1          0,00            0,00                 0,00      16/04/2021   \n",
       "2          0,00            0,00                 0,00      23/04/2021   \n",
       "3          0,00          160,25                 0,00      26/01/2021   \n",
       "4          0,00          511,43                 0,00      16/03/2021   \n",
       "\n",
       "   ANO EXERCÍCIO  \n",
       "0           2021  \n",
       "1           2021  \n",
       "2           2021  \n",
       "3           2021  \n",
       "4           2021  "
      ]
     },
     "execution_count": 2,
     "metadata": {},
     "output_type": "execute_result"
    }
   ],
   "source": [
    "dados_21 = pd.read_csv('../input/execucao-de-receita-gov-brasil/2021_Receitas.csv', sep=';', encoding='latin-1')\n",
    "dados_21.head()"
   ]
  },
  {
   "cell_type": "code",
   "execution_count": 3,
   "id": "1702ff29",
   "metadata": {
    "execution": {
     "iopub.execute_input": "2023-08-29T23:23:14.698017Z",
     "iopub.status.busy": "2023-08-29T23:23:14.697440Z",
     "iopub.status.idle": "2023-08-29T23:23:14.705945Z",
     "shell.execute_reply": "2023-08-29T23:23:14.704553Z"
    },
    "papermill": {
     "duration": 0.026179,
     "end_time": "2023-08-29T23:23:14.708940",
     "exception": false,
     "start_time": "2023-08-29T23:23:14.682761",
     "status": "completed"
    },
    "tags": []
   },
   "outputs": [
    {
     "data": {
      "text/plain": [
       "(134593, 16)"
      ]
     },
     "execution_count": 3,
     "metadata": {},
     "output_type": "execute_result"
    }
   ],
   "source": [
    "dados_21.shape"
   ]
  },
  {
   "cell_type": "code",
   "execution_count": 4,
   "id": "14c4bbf4",
   "metadata": {
    "execution": {
     "iopub.execute_input": "2023-08-29T23:23:14.739520Z",
     "iopub.status.busy": "2023-08-29T23:23:14.737820Z",
     "iopub.status.idle": "2023-08-29T23:23:14.777425Z",
     "shell.execute_reply": "2023-08-29T23:23:14.776064Z"
    },
    "papermill": {
     "duration": 0.057396,
     "end_time": "2023-08-29T23:23:14.780379",
     "exception": false,
     "start_time": "2023-08-29T23:23:14.722983",
     "status": "completed"
    },
    "tags": []
   },
   "outputs": [
    {
     "data": {
      "text/plain": [
       "Ministério da Educação                           39869\n",
       "Ministério da Economia                           33787\n",
       "Ministério da Defesa                             13513\n",
       "Ministério da Justiça e Segurança Pública         5947\n",
       "Ministério da Agricultura, Pecuária e Abastec     5819\n",
       "Ministério da Infraestrutura                      5298\n",
       "Ministério da Ciência, Tecnologia, Inovações      4766\n",
       "Ministério de Minas e Energia                     4557\n",
       "Ministério das Comunicações                       4127\n",
       "Ministério da Saúde                               4110\n",
       "Ministério do Desenvolvimento Regional            4023\n",
       "Ministério do Meio Ambiente                       3955\n",
       "Ministério do Turismo                             3191\n",
       "Ministério da Cidadania                            526\n",
       "Ministério das Relações Exteriores                 517\n",
       "Presidência da República                           375\n",
       "Ministério da Mulher, Família e Direitos Huma      201\n",
       "Ministério das Mulheres, Igualdade Racial, da        9\n",
       "Advocacia-Geral da União                             2\n",
       "Controladoria-Geral da União                         1\n",
       "Name: NOME ÓRGÃO SUPERIOR, dtype: int64"
      ]
     },
     "execution_count": 4,
     "metadata": {},
     "output_type": "execute_result"
    }
   ],
   "source": [
    "dados_21['NOME ÓRGÃO SUPERIOR'].value_counts()"
   ]
  },
  {
   "cell_type": "code",
   "execution_count": 5,
   "id": "690dced7",
   "metadata": {
    "execution": {
     "iopub.execute_input": "2023-08-29T23:23:14.810739Z",
     "iopub.status.busy": "2023-08-29T23:23:14.809417Z",
     "iopub.status.idle": "2023-08-29T23:23:14.843862Z",
     "shell.execute_reply": "2023-08-29T23:23:14.842523Z"
    },
    "papermill": {
     "duration": 0.053213,
     "end_time": "2023-08-29T23:23:14.847055",
     "exception": false,
     "start_time": "2023-08-29T23:23:14.793842",
     "status": "completed"
    },
    "tags": []
   },
   "outputs": [
    {
     "data": {
      "text/plain": [
       "Serviços Administrativos e Comerciais Gerais     34121\n",
       "Multas administrativas, contratuais e judicia    15759\n",
       "Indenizações, restituições e ressarcimentos      15509\n",
       "Taxas                                            11212\n",
       "Exploração do patrimônio imobiliário do Estad     9202\n",
       "Demais receitas correntes                         6889\n",
       "Contribuições econômicas                          5923\n",
       "Contribuições sociais                             5814\n",
       "Valores Mobiliários                               5056\n",
       "Exploração de recursos naturais                   3560\n",
       "Impostos                                          2324\n",
       "Delegação de Serviços Públicos Mediante Conce     2183\n",
       "Serviços e Atividades Referentes à Saúde          2088\n",
       "Receita Agropecuária                              1902\n",
       "Receita Industrial                                1891\n",
       "Amortizações de Empréstimos                       1818\n",
       "Serviços e Atividades Financeiras                 1406\n",
       "Outros serviços                                   1271\n",
       "Bens, Direitos e Valores Incorporados ao Patr     1270\n",
       "Serviços e Atividades Referentes à Navegação      1031\n",
       "Alienação de bens imóveis                          983\n",
       "Demais receitas patrimoniais                       576\n",
       "Operações de crédito - mercado interno             497\n",
       "Alienação de bens móveis                           473\n",
       "Operações de crédito - mercado externo             343\n",
       "Cessão de direitos                                 308\n",
       "Transferências de Instituições Privadas            219\n",
       "Receitas Correntes - a classificar                 180\n",
       "Transferências dos Estados e do Distrito Fede      164\n",
       "Remuneração das Disponibilidades do Tesouro        157\n",
       "Transferências Provenientes de Depósito Não I      123\n",
       "Transferências de Pessoas Físicas                  103\n",
       "Receita de concessões e permissões                  62\n",
       "Indenizações e restituições                         58\n",
       "Transferências dos Municípios e de suas Entid       54\n",
       "Exploração do patrimônio intangível                 17\n",
       "Sem informação                                      16\n",
       "Contribuições para Entidades Privadas de Serv       11\n",
       "Transferências da União e de suas Entidades         10\n",
       "Transferências de Convênios                          8\n",
       "Transferências do Exterior                           1\n",
       "Alienação de bens intangíveis                        1\n",
       "Name: ESPÉCIE RECEITA, dtype: int64"
      ]
     },
     "execution_count": 5,
     "metadata": {},
     "output_type": "execute_result"
    }
   ],
   "source": [
    "dados_21['ESPÉCIE RECEITA'].value_counts()"
   ]
  },
  {
   "cell_type": "code",
   "execution_count": 6,
   "id": "e10ba0f6",
   "metadata": {
    "execution": {
     "iopub.execute_input": "2023-08-29T23:23:14.877561Z",
     "iopub.status.busy": "2023-08-29T23:23:14.876457Z",
     "iopub.status.idle": "2023-08-29T23:23:14.911706Z",
     "shell.execute_reply": "2023-08-29T23:23:14.910279Z"
    },
    "papermill": {
     "duration": 0.053989,
     "end_time": "2023-08-29T23:23:14.914875",
     "exception": false,
     "start_time": "2023-08-29T23:23:14.860886",
     "status": "completed"
    },
    "tags": []
   },
   "outputs": [
    {
     "data": {
      "text/plain": [
       "Receita de Serviços                            39917\n",
       "Outras Receitas Correntes                      39485\n",
       "Receita Patrimonial                            20964\n",
       "Impostos, Taxas e Contribuições de Melhoria    13536\n",
       "Contribuições                                  11748\n",
       "Receita Agropecuária                            1902\n",
       "Receita Industrial                              1891\n",
       "Amortizações de Empréstimos                     1818\n",
       "Alienação de Bens                               1457\n",
       "Operações de Crédito                             840\n",
       "Transferências Correntes                         647\n",
       "Receitas Correntes - a classificar               180\n",
       "Outras Receitas de Capital                       157\n",
       "Transferências de Capital                         35\n",
       "Sem informação                                    16\n",
       "Name: ORIGEM RECEITA, dtype: int64"
      ]
     },
     "execution_count": 6,
     "metadata": {},
     "output_type": "execute_result"
    }
   ],
   "source": [
    "dados_21['ORIGEM RECEITA'].value_counts()"
   ]
  },
  {
   "cell_type": "code",
   "execution_count": 7,
   "id": "2960cadd",
   "metadata": {
    "execution": {
     "iopub.execute_input": "2023-08-29T23:23:14.946780Z",
     "iopub.status.busy": "2023-08-29T23:23:14.946237Z",
     "iopub.status.idle": "2023-08-29T23:23:14.952772Z",
     "shell.execute_reply": "2023-08-29T23:23:14.951120Z"
    },
    "papermill": {
     "duration": 0.026927,
     "end_time": "2023-08-29T23:23:14.956073",
     "exception": false,
     "start_time": "2023-08-29T23:23:14.929146",
     "status": "completed"
    },
    "tags": []
   },
   "outputs": [],
   "source": [
    "pd.set_option('display.float_format', '{:.2f}'.format)"
   ]
  },
  {
   "cell_type": "code",
   "execution_count": 8,
   "id": "98af822f",
   "metadata": {
    "execution": {
     "iopub.execute_input": "2023-08-29T23:23:14.988588Z",
     "iopub.status.busy": "2023-08-29T23:23:14.986980Z",
     "iopub.status.idle": "2023-08-29T23:23:14.995323Z",
     "shell.execute_reply": "2023-08-29T23:23:14.994274Z"
    },
    "papermill": {
     "duration": 0.027231,
     "end_time": "2023-08-29T23:23:14.998404",
     "exception": false,
     "start_time": "2023-08-29T23:23:14.971173",
     "status": "completed"
    },
    "tags": []
   },
   "outputs": [],
   "source": [
    "def paranumero (coluna):\n",
    "    dados_21[coluna].replace(',','.', regex=True, inplace=True)\n",
    "    dados_21[coluna] = pd.to_numeric(dados_21[coluna], errors='coerce')\n",
    "    return dados_21[coluna][0]"
   ]
  },
  {
   "cell_type": "code",
   "execution_count": 9,
   "id": "dbaf04d8",
   "metadata": {
    "execution": {
     "iopub.execute_input": "2023-08-29T23:23:15.032421Z",
     "iopub.status.busy": "2023-08-29T23:23:15.031379Z",
     "iopub.status.idle": "2023-08-29T23:23:15.476018Z",
     "shell.execute_reply": "2023-08-29T23:23:15.474269Z"
    },
    "papermill": {
     "duration": 0.465579,
     "end_time": "2023-08-29T23:23:15.480354",
     "exception": false,
     "start_time": "2023-08-29T23:23:15.014775",
     "status": "completed"
    },
    "tags": []
   },
   "outputs": [
    {
     "data": {
      "text/plain": [
       "2224034904.0"
      ]
     },
     "execution_count": 9,
     "metadata": {},
     "output_type": "execute_result"
    }
   ],
   "source": [
    "paranumero('VALOR PREVISTO ATUALIZADO')"
   ]
  },
  {
   "cell_type": "code",
   "execution_count": 10,
   "id": "1dd9c2a2",
   "metadata": {
    "execution": {
     "iopub.execute_input": "2023-08-29T23:23:15.512379Z",
     "iopub.status.busy": "2023-08-29T23:23:15.511450Z",
     "iopub.status.idle": "2023-08-29T23:23:15.972800Z",
     "shell.execute_reply": "2023-08-29T23:23:15.971301Z"
    },
    "papermill": {
     "duration": 0.480264,
     "end_time": "2023-08-29T23:23:15.975900",
     "exception": false,
     "start_time": "2023-08-29T23:23:15.495636",
     "status": "completed"
    },
    "tags": []
   },
   "outputs": [
    {
     "data": {
      "text/plain": [
       "0.0"
      ]
     },
     "execution_count": 10,
     "metadata": {},
     "output_type": "execute_result"
    }
   ],
   "source": [
    "paranumero('VALOR LANÇADO')"
   ]
  },
  {
   "cell_type": "code",
   "execution_count": 11,
   "id": "a71086f0",
   "metadata": {
    "execution": {
     "iopub.execute_input": "2023-08-29T23:23:16.010143Z",
     "iopub.status.busy": "2023-08-29T23:23:16.007934Z",
     "iopub.status.idle": "2023-08-29T23:23:16.512072Z",
     "shell.execute_reply": "2023-08-29T23:23:16.509953Z"
    },
    "papermill": {
     "duration": 0.526092,
     "end_time": "2023-08-29T23:23:16.516075",
     "exception": false,
     "start_time": "2023-08-29T23:23:15.989983",
     "status": "completed"
    },
    "tags": []
   },
   "outputs": [
    {
     "data": {
      "text/plain": [
       "0.0"
      ]
     },
     "execution_count": 11,
     "metadata": {},
     "output_type": "execute_result"
    }
   ],
   "source": [
    "paranumero('VALOR REALIZADO')"
   ]
  },
  {
   "cell_type": "code",
   "execution_count": 12,
   "id": "8347947b",
   "metadata": {
    "execution": {
     "iopub.execute_input": "2023-08-29T23:23:16.548972Z",
     "iopub.status.busy": "2023-08-29T23:23:16.548417Z",
     "iopub.status.idle": "2023-08-29T23:23:16.991395Z",
     "shell.execute_reply": "2023-08-29T23:23:16.990048Z"
    },
    "papermill": {
     "duration": 0.463809,
     "end_time": "2023-08-29T23:23:16.994892",
     "exception": false,
     "start_time": "2023-08-29T23:23:16.531083",
     "status": "completed"
    },
    "tags": []
   },
   "outputs": [
    {
     "data": {
      "text/plain": [
       "0.0"
      ]
     },
     "execution_count": 12,
     "metadata": {},
     "output_type": "execute_result"
    }
   ],
   "source": [
    "paranumero('PERCENTUAL REALIZADO')"
   ]
  },
  {
   "cell_type": "code",
   "execution_count": 13,
   "id": "e880f2ce",
   "metadata": {
    "execution": {
     "iopub.execute_input": "2023-08-29T23:23:17.027332Z",
     "iopub.status.busy": "2023-08-29T23:23:17.026789Z",
     "iopub.status.idle": "2023-08-29T23:23:17.120897Z",
     "shell.execute_reply": "2023-08-29T23:23:17.119414Z"
    },
    "papermill": {
     "duration": 0.114341,
     "end_time": "2023-08-29T23:23:17.124457",
     "exception": false,
     "start_time": "2023-08-29T23:23:17.010116",
     "status": "completed"
    },
    "tags": []
   },
   "outputs": [
    {
     "data": {
      "text/html": [
       "<div>\n",
       "<style scoped>\n",
       "    .dataframe tbody tr th:only-of-type {\n",
       "        vertical-align: middle;\n",
       "    }\n",
       "\n",
       "    .dataframe tbody tr th {\n",
       "        vertical-align: top;\n",
       "    }\n",
       "\n",
       "    .dataframe thead th {\n",
       "        text-align: right;\n",
       "    }\n",
       "</style>\n",
       "<table border=\"1\" class=\"dataframe\">\n",
       "  <thead>\n",
       "    <tr style=\"text-align: right;\">\n",
       "      <th></th>\n",
       "      <th>CÓDIGO ÓRGÃO SUPERIOR</th>\n",
       "      <th>CÓDIGO ÓRGÃO</th>\n",
       "      <th>CÓDIGO UNIDADE GESTORA</th>\n",
       "      <th>VALOR PREVISTO ATUALIZADO</th>\n",
       "      <th>VALOR LANÇADO</th>\n",
       "      <th>VALOR REALIZADO</th>\n",
       "      <th>PERCENTUAL REALIZADO</th>\n",
       "      <th>ANO EXERCÍCIO</th>\n",
       "    </tr>\n",
       "  </thead>\n",
       "  <tbody>\n",
       "    <tr>\n",
       "      <th>count</th>\n",
       "      <td>134593.00</td>\n",
       "      <td>134593.00</td>\n",
       "      <td>134593.00</td>\n",
       "      <td>134593.00</td>\n",
       "      <td>134593.00</td>\n",
       "      <td>134593.00</td>\n",
       "      <td>134593.00</td>\n",
       "      <td>134593.00</td>\n",
       "    </tr>\n",
       "    <tr>\n",
       "      <th>mean</th>\n",
       "      <td>31988.33</td>\n",
       "      <td>31450.67</td>\n",
       "      <td>238796.92</td>\n",
       "      <td>31061916.08</td>\n",
       "      <td>2673161.08</td>\n",
       "      <td>28800695.61</td>\n",
       "      <td>0.00</td>\n",
       "      <td>2021.00</td>\n",
       "    </tr>\n",
       "    <tr>\n",
       "      <th>std</th>\n",
       "      <td>10479.75</td>\n",
       "      <td>10266.50</td>\n",
       "      <td>151371.03</td>\n",
       "      <td>4734032653.06</td>\n",
       "      <td>398805402.24</td>\n",
       "      <td>705929818.31</td>\n",
       "      <td>0.23</td>\n",
       "      <td>0.00</td>\n",
       "    </tr>\n",
       "    <tr>\n",
       "      <th>min</th>\n",
       "      <td>20000.00</td>\n",
       "      <td>20101.00</td>\n",
       "      <td>110005.00</td>\n",
       "      <td>0.00</td>\n",
       "      <td>-37505821629.82</td>\n",
       "      <td>-12126486130.06</td>\n",
       "      <td>-1.00</td>\n",
       "      <td>2021.00</td>\n",
       "    </tr>\n",
       "    <tr>\n",
       "      <th>25%</th>\n",
       "      <td>25000.00</td>\n",
       "      <td>25000.00</td>\n",
       "      <td>154044.00</td>\n",
       "      <td>0.00</td>\n",
       "      <td>0.00</td>\n",
       "      <td>304.56</td>\n",
       "      <td>0.00</td>\n",
       "      <td>2021.00</td>\n",
       "    </tr>\n",
       "    <tr>\n",
       "      <th>50%</th>\n",
       "      <td>26000.00</td>\n",
       "      <td>26285.00</td>\n",
       "      <td>170013.00</td>\n",
       "      <td>0.00</td>\n",
       "      <td>0.00</td>\n",
       "      <td>4341.00</td>\n",
       "      <td>0.00</td>\n",
       "      <td>2021.00</td>\n",
       "    </tr>\n",
       "    <tr>\n",
       "      <th>75%</th>\n",
       "      <td>39000.00</td>\n",
       "      <td>36000.00</td>\n",
       "      <td>253002.00</td>\n",
       "      <td>0.00</td>\n",
       "      <td>0.00</td>\n",
       "      <td>60573.33</td>\n",
       "      <td>0.00</td>\n",
       "      <td>2021.00</td>\n",
       "    </tr>\n",
       "    <tr>\n",
       "      <th>max</th>\n",
       "      <td>81000.00</td>\n",
       "      <td>90000.00</td>\n",
       "      <td>873001.00</td>\n",
       "      <td>1603521711208.00</td>\n",
       "      <td>114112106824.45</td>\n",
       "      <td>55340292367.19</td>\n",
       "      <td>51.00</td>\n",
       "      <td>2021.00</td>\n",
       "    </tr>\n",
       "  </tbody>\n",
       "</table>\n",
       "</div>"
      ],
      "text/plain": [
       "       CÓDIGO ÓRGÃO SUPERIOR  CÓDIGO ÓRGÃO  CÓDIGO UNIDADE GESTORA  \\\n",
       "count              134593.00     134593.00               134593.00   \n",
       "mean                31988.33      31450.67               238796.92   \n",
       "std                 10479.75      10266.50               151371.03   \n",
       "min                 20000.00      20101.00               110005.00   \n",
       "25%                 25000.00      25000.00               154044.00   \n",
       "50%                 26000.00      26285.00               170013.00   \n",
       "75%                 39000.00      36000.00               253002.00   \n",
       "max                 81000.00      90000.00               873001.00   \n",
       "\n",
       "       VALOR PREVISTO ATUALIZADO   VALOR LANÇADO  VALOR REALIZADO  \\\n",
       "count                  134593.00       134593.00        134593.00   \n",
       "mean                 31061916.08      2673161.08      28800695.61   \n",
       "std                4734032653.06    398805402.24     705929818.31   \n",
       "min                         0.00 -37505821629.82  -12126486130.06   \n",
       "25%                         0.00            0.00           304.56   \n",
       "50%                         0.00            0.00          4341.00   \n",
       "75%                         0.00            0.00         60573.33   \n",
       "max             1603521711208.00 114112106824.45   55340292367.19   \n",
       "\n",
       "       PERCENTUAL REALIZADO  ANO EXERCÍCIO  \n",
       "count             134593.00      134593.00  \n",
       "mean                   0.00        2021.00  \n",
       "std                    0.23           0.00  \n",
       "min                   -1.00        2021.00  \n",
       "25%                    0.00        2021.00  \n",
       "50%                    0.00        2021.00  \n",
       "75%                    0.00        2021.00  \n",
       "max                   51.00        2021.00  "
      ]
     },
     "execution_count": 13,
     "metadata": {},
     "output_type": "execute_result"
    }
   ],
   "source": [
    "dados_21.describe()"
   ]
  },
  {
   "cell_type": "code",
   "execution_count": 14,
   "id": "4b273723",
   "metadata": {
    "execution": {
     "iopub.execute_input": "2023-08-29T23:23:17.155931Z",
     "iopub.status.busy": "2023-08-29T23:23:17.155426Z",
     "iopub.status.idle": "2023-08-29T23:23:17.300754Z",
     "shell.execute_reply": "2023-08-29T23:23:17.299256Z"
    },
    "papermill": {
     "duration": 0.164734,
     "end_time": "2023-08-29T23:23:17.304034",
     "exception": false,
     "start_time": "2023-08-29T23:23:17.139300",
     "status": "completed"
    },
    "tags": []
   },
   "outputs": [
    {
     "name": "stdout",
     "output_type": "stream",
     "text": [
      "<class 'pandas.core.frame.DataFrame'>\n",
      "RangeIndex: 134593 entries, 0 to 134592\n",
      "Data columns (total 16 columns):\n",
      " #   Column                     Non-Null Count   Dtype  \n",
      "---  ------                     --------------   -----  \n",
      " 0   CÓDIGO ÓRGÃO SUPERIOR      134593 non-null  int64  \n",
      " 1   NOME ÓRGÃO SUPERIOR        134593 non-null  object \n",
      " 2   CÓDIGO ÓRGÃO               134593 non-null  int64  \n",
      " 3   NOME ÓRGÃO                 134593 non-null  object \n",
      " 4   CÓDIGO UNIDADE GESTORA     134593 non-null  int64  \n",
      " 5   NOME UNIDADE GESTORA       134593 non-null  object \n",
      " 6   CATEGORIA ECONÔMICA        134593 non-null  object \n",
      " 7   ORIGEM RECEITA             134593 non-null  object \n",
      " 8   ESPÉCIE RECEITA            134593 non-null  object \n",
      " 9   DETALHAMENTO               134593 non-null  object \n",
      " 10  VALOR PREVISTO ATUALIZADO  134593 non-null  float64\n",
      " 11  VALOR LANÇADO              134593 non-null  float64\n",
      " 12  VALOR REALIZADO            134593 non-null  float64\n",
      " 13  PERCENTUAL REALIZADO       134593 non-null  float64\n",
      " 14  DATA LANÇAMENTO            134470 non-null  object \n",
      " 15  ANO EXERCÍCIO              134593 non-null  int64  \n",
      "dtypes: float64(4), int64(4), object(8)\n",
      "memory usage: 16.4+ MB\n"
     ]
    }
   ],
   "source": [
    "dados_21.info()"
   ]
  },
  {
   "cell_type": "code",
   "execution_count": 15,
   "id": "293cad76",
   "metadata": {
    "execution": {
     "iopub.execute_input": "2023-08-29T23:23:17.336243Z",
     "iopub.status.busy": "2023-08-29T23:23:17.335714Z",
     "iopub.status.idle": "2023-08-29T23:23:17.361023Z",
     "shell.execute_reply": "2023-08-29T23:23:17.359578Z"
    },
    "papermill": {
     "duration": 0.044859,
     "end_time": "2023-08-29T23:23:17.364240",
     "exception": false,
     "start_time": "2023-08-29T23:23:17.319381",
     "status": "completed"
    },
    "tags": []
   },
   "outputs": [
    {
     "data": {
      "text/plain": [
       "123"
      ]
     },
     "execution_count": 15,
     "metadata": {},
     "output_type": "execute_result"
    }
   ],
   "source": [
    "#Algumas datas faltando, mas isso não deve atrapalhar por agora.\n",
    "dados_21['DATA LANÇAMENTO'].isna().sum()"
   ]
  },
  {
   "cell_type": "markdown",
   "id": "cf9f2563",
   "metadata": {
    "papermill": {
     "duration": 0.014157,
     "end_time": "2023-08-29T23:23:17.393240",
     "exception": false,
     "start_time": "2023-08-29T23:23:17.379083",
     "status": "completed"
    },
    "tags": []
   },
   "source": [
    "__Vamos iniciar a visualização verificando o total realizado de cada órgão__"
   ]
  },
  {
   "cell_type": "code",
   "execution_count": 16,
   "id": "2aca41a6",
   "metadata": {
    "execution": {
     "iopub.execute_input": "2023-08-29T23:23:17.425124Z",
     "iopub.status.busy": "2023-08-29T23:23:17.424550Z",
     "iopub.status.idle": "2023-08-29T23:23:17.460672Z",
     "shell.execute_reply": "2023-08-29T23:23:17.459597Z"
    },
    "papermill": {
     "duration": 0.055467,
     "end_time": "2023-08-29T23:23:17.463346",
     "exception": false,
     "start_time": "2023-08-29T23:23:17.407879",
     "status": "completed"
    },
    "tags": []
   },
   "outputs": [
    {
     "data": {
      "text/html": [
       "<div>\n",
       "<style scoped>\n",
       "    .dataframe tbody tr th:only-of-type {\n",
       "        vertical-align: middle;\n",
       "    }\n",
       "\n",
       "    .dataframe tbody tr th {\n",
       "        vertical-align: top;\n",
       "    }\n",
       "\n",
       "    .dataframe thead th {\n",
       "        text-align: right;\n",
       "    }\n",
       "</style>\n",
       "<table border=\"1\" class=\"dataframe\">\n",
       "  <thead>\n",
       "    <tr style=\"text-align: right;\">\n",
       "      <th></th>\n",
       "      <th>VALOR REALIZADO</th>\n",
       "    </tr>\n",
       "    <tr>\n",
       "      <th>NOME ÓRGÃO SUPERIOR</th>\n",
       "      <th></th>\n",
       "    </tr>\n",
       "  </thead>\n",
       "  <tbody>\n",
       "    <tr>\n",
       "      <th>Ministério da Economia</th>\n",
       "      <td>3770951413825.13</td>\n",
       "    </tr>\n",
       "    <tr>\n",
       "      <th>Ministério da Educação</th>\n",
       "      <td>30481596503.55</td>\n",
       "    </tr>\n",
       "    <tr>\n",
       "      <th>Ministério da Infraestrutura</th>\n",
       "      <td>19293185602.70</td>\n",
       "    </tr>\n",
       "    <tr>\n",
       "      <th>Ministério da Defesa</th>\n",
       "      <td>14221642244.70</td>\n",
       "    </tr>\n",
       "    <tr>\n",
       "      <th>Ministério de Minas e Energia</th>\n",
       "      <td>14017921135.30</td>\n",
       "    </tr>\n",
       "    <tr>\n",
       "      <th>Ministério da Agricultura, Pecuária e Abastec</th>\n",
       "      <td>6016221699.91</td>\n",
       "    </tr>\n",
       "    <tr>\n",
       "      <th>Ministério da Ciência, Tecnologia, Inovações</th>\n",
       "      <td>4217465602.00</td>\n",
       "    </tr>\n",
       "    <tr>\n",
       "      <th>Ministério da Justiça e Segurança Pública</th>\n",
       "      <td>4100244467.82</td>\n",
       "    </tr>\n",
       "    <tr>\n",
       "      <th>Presidência da República</th>\n",
       "      <td>2415150994.53</td>\n",
       "    </tr>\n",
       "    <tr>\n",
       "      <th>Ministério das Comunicações</th>\n",
       "      <td>2128375923.36</td>\n",
       "    </tr>\n",
       "    <tr>\n",
       "      <th>Ministério do Desenvolvimento Regional</th>\n",
       "      <td>2080698680.07</td>\n",
       "    </tr>\n",
       "    <tr>\n",
       "      <th>Ministério da Saúde</th>\n",
       "      <td>1905107036.68</td>\n",
       "    </tr>\n",
       "    <tr>\n",
       "      <th>Ministério da Cidadania</th>\n",
       "      <td>1689880954.51</td>\n",
       "    </tr>\n",
       "    <tr>\n",
       "      <th>Ministério do Turismo</th>\n",
       "      <td>1630540344.63</td>\n",
       "    </tr>\n",
       "    <tr>\n",
       "      <th>Ministério do Meio Ambiente</th>\n",
       "      <td>1071415544.91</td>\n",
       "    </tr>\n",
       "    <tr>\n",
       "      <th>Ministério das Relações Exteriores</th>\n",
       "      <td>137533989.94</td>\n",
       "    </tr>\n",
       "    <tr>\n",
       "      <th>Ministério da Mulher, Família e Direitos Huma</th>\n",
       "      <td>13629493.61</td>\n",
       "    </tr>\n",
       "    <tr>\n",
       "      <th>Ministério das Mulheres, Igualdade Racial, da</th>\n",
       "      <td>829.69</td>\n",
       "    </tr>\n",
       "    <tr>\n",
       "      <th>Controladoria-Geral da União</th>\n",
       "      <td>0.00</td>\n",
       "    </tr>\n",
       "    <tr>\n",
       "      <th>Advocacia-Geral da União</th>\n",
       "      <td>0.00</td>\n",
       "    </tr>\n",
       "  </tbody>\n",
       "</table>\n",
       "</div>"
      ],
      "text/plain": [
       "                                               VALOR REALIZADO\n",
       "NOME ÓRGÃO SUPERIOR                                           \n",
       "Ministério da Economia                        3770951413825.13\n",
       "Ministério da Educação                          30481596503.55\n",
       "Ministério da Infraestrutura                    19293185602.70\n",
       "Ministério da Defesa                            14221642244.70\n",
       "Ministério de Minas e Energia                   14017921135.30\n",
       "Ministério da Agricultura, Pecuária e Abastec    6016221699.91\n",
       "Ministério da Ciência, Tecnologia, Inovações     4217465602.00\n",
       "Ministério da Justiça e Segurança Pública        4100244467.82\n",
       "Presidência da República                         2415150994.53\n",
       "Ministério das Comunicações                      2128375923.36\n",
       "Ministério do Desenvolvimento Regional           2080698680.07\n",
       "Ministério da Saúde                              1905107036.68\n",
       "Ministério da Cidadania                          1689880954.51\n",
       "Ministério do Turismo                            1630540344.63\n",
       "Ministério do Meio Ambiente                      1071415544.91\n",
       "Ministério das Relações Exteriores                137533989.94\n",
       "Ministério da Mulher, Família e Direitos Huma      13629493.61\n",
       "Ministério das Mulheres, Igualdade Racial, da           829.69\n",
       "Controladoria-Geral da União                              0.00\n",
       "Advocacia-Geral da União                                  0.00"
      ]
     },
     "execution_count": 16,
     "metadata": {},
     "output_type": "execute_result"
    }
   ],
   "source": [
    "dados_por_orgao = dados_21.groupby(['NOME ÓRGÃO SUPERIOR'])\n",
    "total_gastos_por_orgao = dados_por_orgao['VALOR REALIZADO'].sum()\n",
    "total_gastos_por_orgao = pd.DataFrame(total_gastos_por_orgao)\n",
    "total_gastos_por_orgao.sort_values(by = 'VALOR REALIZADO', ascending=False, inplace=True)\n",
    "total_gastos_por_orgao"
   ]
  },
  {
   "cell_type": "code",
   "execution_count": 17,
   "id": "5dc9000f",
   "metadata": {
    "execution": {
     "iopub.execute_input": "2023-08-29T23:23:17.496554Z",
     "iopub.status.busy": "2023-08-29T23:23:17.495905Z",
     "iopub.status.idle": "2023-08-29T23:23:18.891212Z",
     "shell.execute_reply": "2023-08-29T23:23:18.889408Z"
    },
    "papermill": {
     "duration": 1.41578,
     "end_time": "2023-08-29T23:23:18.894552",
     "exception": false,
     "start_time": "2023-08-29T23:23:17.478772",
     "status": "completed"
    },
    "tags": []
   },
   "outputs": [],
   "source": [
    "import seaborn as sns\n",
    "import matplotlib.pyplot as plt"
   ]
  },
  {
   "cell_type": "code",
   "execution_count": 18,
   "id": "97b18984",
   "metadata": {
    "execution": {
     "iopub.execute_input": "2023-08-29T23:23:18.929069Z",
     "iopub.status.busy": "2023-08-29T23:23:18.928492Z",
     "iopub.status.idle": "2023-08-29T23:23:19.200154Z",
     "shell.execute_reply": "2023-08-29T23:23:19.198671Z"
    },
    "papermill": {
     "duration": 0.292313,
     "end_time": "2023-08-29T23:23:19.203276",
     "exception": false,
     "start_time": "2023-08-29T23:23:18.910963",
     "status": "completed"
    },
    "tags": []
   },
   "outputs": [
    {
     "data": {
      "text/plain": [
       "Text(0.5, 1.0, 'Receita do Ministério da Economia separadamente')"
      ]
     },
     "execution_count": 18,
     "metadata": {},
     "output_type": "execute_result"
    },
    {
     "data": {
      "image/png": "[encoded data removed]",
      "text/plain": [
       "<Figure size 576x576 with 1 Axes>"
      ]
     },
     "metadata": {},
     "output_type": "display_data"
    }
   ],
   "source": [
    "fig = plt.figure(figsize=(8,8))\n",
    "eixo = fig.add_axes([0,0,1,1])\n",
    "\n",
    "Ministerio_Economia = total_gastos_por_orgao.loc['Ministério da Economia'].sum()\n",
    "total_gastos_sem_eco = total_gastos_por_orgao.drop('Ministério da Economia')\n",
    "Outros = total_gastos_sem_eco['VALOR REALIZADO'].sum()\n",
    "\n",
    "eixo.pie([Ministerio_Economia, Outros],labels =['Ministério da Economia', 'Outros'], autopct='%.1f%%', explode=[0,0.3])\n",
    "eixo.set_title('Receita do Ministério da Economia separadamente', fontsize=20)\n"
   ]
  },
  {
   "cell_type": "code",
   "execution_count": 19,
   "id": "66d838c3",
   "metadata": {
    "execution": {
     "iopub.execute_input": "2023-08-29T23:23:19.238883Z",
     "iopub.status.busy": "2023-08-29T23:23:19.238347Z",
     "iopub.status.idle": "2023-08-29T23:23:19.292499Z",
     "shell.execute_reply": "2023-08-29T23:23:19.291037Z"
    },
    "papermill": {
     "duration": 0.076088,
     "end_time": "2023-08-29T23:23:19.295861",
     "exception": false,
     "start_time": "2023-08-29T23:23:19.219773",
     "status": "completed"
    },
    "tags": []
   },
   "outputs": [
    {
     "name": "stderr",
     "output_type": "stream",
     "text": [
      "/opt/conda/lib/python3.7/site-packages/ipykernel_launcher.py:8: SettingWithCopyWarning: \n",
      "A value is trying to be set on a copy of a slice from a DataFrame.\n",
      "Try using .loc[row_indexer,col_indexer] = value instead\n",
      "\n",
      "See the caveats in the documentation: https://pandas.pydata.org/pandas-docs/stable/user_guide/indexing.html#returning-a-view-versus-a-copy\n",
      "  \n"
     ]
    },
    {
     "data": {
      "text/html": [
       "<div>\n",
       "<style scoped>\n",
       "    .dataframe tbody tr th:only-of-type {\n",
       "        vertical-align: middle;\n",
       "    }\n",
       "\n",
       "    .dataframe tbody tr th {\n",
       "        vertical-align: top;\n",
       "    }\n",
       "\n",
       "    .dataframe thead th {\n",
       "        text-align: right;\n",
       "    }\n",
       "</style>\n",
       "<table border=\"1\" class=\"dataframe\">\n",
       "  <thead>\n",
       "    <tr style=\"text-align: right;\">\n",
       "      <th></th>\n",
       "      <th>VALOR REALIZADO</th>\n",
       "    </tr>\n",
       "    <tr>\n",
       "      <th>DETALHAMENTO</th>\n",
       "      <th></th>\n",
       "    </tr>\n",
       "  </thead>\n",
       "  <tbody>\n",
       "    <tr>\n",
       "      <th>COFINS SOBRE O FATURAMENTO-PRINCIPAL</th>\n",
       "      <td>234.80</td>\n",
       "    </tr>\n",
       "    <tr>\n",
       "      <th>CONTR.PREV.EMPREGADOR-Ñ OPT.SIMP.NAC.-PRINC.</th>\n",
       "      <td>209.83</td>\n",
       "    </tr>\n",
       "    <tr>\n",
       "      <th>CONTRIB.PREVIDENCIARIA DO SEGURADO-PRINC.</th>\n",
       "      <td>105.39</td>\n",
       "    </tr>\n",
       "    <tr>\n",
       "      <th>CSLL-CONTRIBUINTES Ñ OPT.SIMP.NAC.-PRINC.</th>\n",
       "      <td>96.78</td>\n",
       "    </tr>\n",
       "    <tr>\n",
       "      <th>CONTRIB.PIS/PASEP-Ñ OPTANTES SIMP.NAC-PRINC.</th>\n",
       "      <td>62.33</td>\n",
       "    </tr>\n",
       "    <tr>\n",
       "      <th>CONT.PREVID.EMPREGADOR-OPT.SIMP.NAC.-PRINC</th>\n",
       "      <td>44.67</td>\n",
       "    </tr>\n",
       "    <tr>\n",
       "      <th>CPSSS PATRONAL-SERVIDOR CIVIL-PRINC.-INTRA</th>\n",
       "      <td>19.98</td>\n",
       "    </tr>\n",
       "    <tr>\n",
       "      <th>CONTRIB.SOCIAL DO SALARIO-EDUCACAO-PRINCIPAL</th>\n",
       "      <td>18.94</td>\n",
       "    </tr>\n",
       "    <tr>\n",
       "      <th>CPSSS-SERVIDOR CIVIL ATIVO-PRINCIPAL</th>\n",
       "      <td>10.30</td>\n",
       "    </tr>\n",
       "    <tr>\n",
       "      <th>COTA-PARTE DO AFRMM-PRINCIPAL</th>\n",
       "      <td>10.21</td>\n",
       "    </tr>\n",
       "  </tbody>\n",
       "</table>\n",
       "</div>"
      ],
      "text/plain": [
       "                                              VALOR REALIZADO\n",
       "DETALHAMENTO                                                 \n",
       "COFINS SOBRE O FATURAMENTO-PRINCIPAL                   234.80\n",
       "CONTR.PREV.EMPREGADOR-Ñ OPT.SIMP.NAC.-PRINC.           209.83\n",
       "CONTRIB.PREVIDENCIARIA DO SEGURADO-PRINC.              105.39\n",
       "CSLL-CONTRIBUINTES Ñ OPT.SIMP.NAC.-PRINC.               96.78\n",
       "CONTRIB.PIS/PASEP-Ñ OPTANTES SIMP.NAC-PRINC.            62.33\n",
       "CONT.PREVID.EMPREGADOR-OPT.SIMP.NAC.-PRINC              44.67\n",
       "CPSSS PATRONAL-SERVIDOR CIVIL-PRINC.-INTRA              19.98\n",
       "CONTRIB.SOCIAL DO SALARIO-EDUCACAO-PRINCIPAL            18.94\n",
       "CPSSS-SERVIDOR CIVIL ATIVO-PRINCIPAL                    10.30\n",
       "COTA-PARTE DO AFRMM-PRINCIPAL                           10.21"
      ]
     },
     "execution_count": 19,
     "metadata": {},
     "output_type": "execute_result"
    }
   ],
   "source": [
    "dados_contribuicoes = dados_21[dados_21['ORIGEM RECEITA'] == 'Contribuições']\n",
    "dados_21_agrupados = dados_contribuicoes.groupby(['DETALHAMENTO'])\n",
    "dados_21_resultado = dados_21_agrupados['VALOR REALIZADO'].sum()\n",
    "dados_21_resultado = pd.DataFrame(dados_21_resultado)\n",
    "dados_21_resultado.sort_values(by = 'VALOR REALIZADO', ascending=False, inplace=True)\n",
    "#Como existem muitos resultados, vamos ficar só com os primeiros\n",
    "dados_21_resultado_top = dados_21_resultado.head(10)\n",
    "dados_21_resultado_top['VALOR REALIZADO'] = dados_21_resultado_top['VALOR REALIZADO']/1000000000\n",
    "dados_21_resultado_top"
   ]
  },
  {
   "cell_type": "code",
   "execution_count": 20,
   "id": "325dd482",
   "metadata": {
    "execution": {
     "iopub.execute_input": "2023-08-29T23:23:19.333124Z",
     "iopub.status.busy": "2023-08-29T23:23:19.332168Z",
     "iopub.status.idle": "2023-08-29T23:23:19.726986Z",
     "shell.execute_reply": "2023-08-29T23:23:19.725542Z"
    },
    "papermill": {
     "duration": 0.417474,
     "end_time": "2023-08-29T23:23:19.730111",
     "exception": false,
     "start_time": "2023-08-29T23:23:19.312637",
     "status": "completed"
    },
    "tags": []
   },
   "outputs": [
    {
     "data": {
      "image/png": "[encoded data removed]",
      "text/plain": [
       "<Figure size 864x720 with 1 Axes>"
      ]
     },
     "metadata": {
      "needs_background": "light"
     },
     "output_type": "display_data"
    }
   ],
   "source": [
    "ax = plt.figure(figsize=(12,10))\n",
    "\n",
    "ax = sns.barplot(data = dados_21_resultado_top, x='VALOR REALIZADO',\n",
    "                  y=dados_21_resultado_top.index)\n",
    "ax.set_title('As 10 principais contribuições do governo', fontsize=30)\n",
    "ax.set_xlabel('Valor Realizado em bilhões de reais',fontsize=20)\n",
    "ax.bar_label(ax.containers[0], fmt='%d', padding=0)\n",
    "ax.ticklabel_format(style='plain', axis='x')"
   ]
  },
  {
   "cell_type": "code",
   "execution_count": 21,
   "id": "aa3a7d27",
   "metadata": {
    "execution": {
     "iopub.execute_input": "2023-08-29T23:23:19.768394Z",
     "iopub.status.busy": "2023-08-29T23:23:19.767791Z",
     "iopub.status.idle": "2023-08-29T23:23:19.825398Z",
     "shell.execute_reply": "2023-08-29T23:23:19.823997Z"
    },
    "papermill": {
     "duration": 0.08044,
     "end_time": "2023-08-29T23:23:19.828512",
     "exception": false,
     "start_time": "2023-08-29T23:23:19.748072",
     "status": "completed"
    },
    "tags": []
   },
   "outputs": [
    {
     "data": {
      "text/html": [
       "<div>\n",
       "<style scoped>\n",
       "    .dataframe tbody tr th:only-of-type {\n",
       "        vertical-align: middle;\n",
       "    }\n",
       "\n",
       "    .dataframe tbody tr th {\n",
       "        vertical-align: top;\n",
       "    }\n",
       "\n",
       "    .dataframe thead th {\n",
       "        text-align: right;\n",
       "    }\n",
       "</style>\n",
       "<table border=\"1\" class=\"dataframe\">\n",
       "  <thead>\n",
       "    <tr style=\"text-align: right;\">\n",
       "      <th></th>\n",
       "      <th>VALOR REALIZADO</th>\n",
       "    </tr>\n",
       "    <tr>\n",
       "      <th>ORIGEM RECEITA</th>\n",
       "      <th></th>\n",
       "    </tr>\n",
       "  </thead>\n",
       "  <tbody>\n",
       "    <tr>\n",
       "      <th>Operações de Crédito</th>\n",
       "      <td>1935.46</td>\n",
       "    </tr>\n",
       "    <tr>\n",
       "      <th>Contribuições</th>\n",
       "      <td>835.32</td>\n",
       "    </tr>\n",
       "    <tr>\n",
       "      <th>Impostos, Taxas e Contribuições de Melhoria</th>\n",
       "      <td>618.62</td>\n",
       "    </tr>\n",
       "    <tr>\n",
       "      <th>Receita Patrimonial</th>\n",
       "      <td>114.47</td>\n",
       "    </tr>\n",
       "    <tr>\n",
       "      <th>Outras Receitas de Capital</th>\n",
       "      <td>99.10</td>\n",
       "    </tr>\n",
       "    <tr>\n",
       "      <th>Amortizações de Empréstimos</th>\n",
       "      <td>81.60</td>\n",
       "    </tr>\n",
       "    <tr>\n",
       "      <th>Outras Receitas Correntes</th>\n",
       "      <td>42.86</td>\n",
       "    </tr>\n",
       "    <tr>\n",
       "      <th>Receita de Serviços</th>\n",
       "      <td>35.34</td>\n",
       "    </tr>\n",
       "    <tr>\n",
       "      <th>Alienação de Bens</th>\n",
       "      <td>8.08</td>\n",
       "    </tr>\n",
       "    <tr>\n",
       "      <th>Transferências Correntes</th>\n",
       "      <td>0.07</td>\n",
       "    </tr>\n",
       "    <tr>\n",
       "      <th>Receitas Correntes - a classificar</th>\n",
       "      <td>0.01</td>\n",
       "    </tr>\n",
       "    <tr>\n",
       "      <th>Receita Industrial</th>\n",
       "      <td>0.01</td>\n",
       "    </tr>\n",
       "  </tbody>\n",
       "</table>\n",
       "</div>"
      ],
      "text/plain": [
       "                                             VALOR REALIZADO\n",
       "ORIGEM RECEITA                                              \n",
       "Operações de Crédito                                 1935.46\n",
       "Contribuições                                         835.32\n",
       "Impostos, Taxas e Contribuições de Melhoria           618.62\n",
       "Receita Patrimonial                                   114.47\n",
       "Outras Receitas de Capital                             99.10\n",
       "Amortizações de Empréstimos                            81.60\n",
       "Outras Receitas Correntes                              42.86\n",
       "Receita de Serviços                                    35.34\n",
       "Alienação de Bens                                       8.08\n",
       "Transferências Correntes                                0.07\n",
       "Receitas Correntes - a classificar                      0.01\n",
       "Receita Industrial                                      0.01"
      ]
     },
     "execution_count": 21,
     "metadata": {},
     "output_type": "execute_result"
    }
   ],
   "source": [
    "dados_eco = dados_21[dados_21['NOME ÓRGÃO SUPERIOR'] == 'Ministério da Economia']\n",
    "dados_eco_agrupados = dados_eco.groupby(['ORIGEM RECEITA'])\n",
    "dados_eco_agrupados_resultado = dados_eco_agrupados['VALOR REALIZADO'].sum()\n",
    "dados_eco_agrupados_resultado = pd.DataFrame(dados_eco_agrupados_resultado)\n",
    "dados_eco_agrupados_resultado.sort_values(by = 'VALOR REALIZADO', ascending=False, inplace=True)\n",
    "#Transferência termina não se comportando como uma receita por ser negativa. Há razões contábeis para isso,\n",
    "#como não haver contrapartida, mas aqui isso termina prejudicando a análise e será retirado, juntamento com sem\n",
    "#informação.\n",
    "dados_eco_agrupados_resultado.drop(['Sem informação','Transferências de Capital'], inplace=True)\n",
    "dados_eco_agrupados_resultado['VALOR REALIZADO'] = dados_eco_agrupados_resultado['VALOR REALIZADO']/1000000000\n",
    "dados_eco_agrupados_resultado"
   ]
  },
  {
   "cell_type": "code",
   "execution_count": 22,
   "id": "2f5b4d47",
   "metadata": {
    "execution": {
     "iopub.execute_input": "2023-08-29T23:23:19.866952Z",
     "iopub.status.busy": "2023-08-29T23:23:19.866378Z",
     "iopub.status.idle": "2023-08-29T23:23:20.318952Z",
     "shell.execute_reply": "2023-08-29T23:23:20.317495Z"
    },
    "papermill": {
     "duration": 0.475682,
     "end_time": "2023-08-29T23:23:20.322353",
     "exception": false,
     "start_time": "2023-08-29T23:23:19.846671",
     "status": "completed"
    },
    "tags": []
   },
   "outputs": [
    {
     "data": {
      "image/png": "[encoded data removed]",
      "text/plain": [
       "<Figure size 864x720 with 1 Axes>"
      ]
     },
     "metadata": {
      "needs_background": "light"
     },
     "output_type": "display_data"
    }
   ],
   "source": [
    "ax = plt.figure(figsize=(12,10))\n",
    "\n",
    "ax = sns.barplot(data = dados_eco_agrupados_resultado, x='VALOR REALIZADO',\n",
    "                  y=dados_eco_agrupados_resultado.index)\n",
    "ax.set_title('Origens da Receita do Ministério da Economia', fontsize=20)\n",
    "ax.set_xlabel('Valor Realizado em bilhões de reais',fontsize=12)\n",
    "ax.bar_label(ax.containers[0], fmt='%d', padding=0)\n",
    "ax.ticklabel_format(style='plain', axis='x')"
   ]
  },
  {
   "cell_type": "code",
   "execution_count": 23,
   "id": "5581f661",
   "metadata": {
    "execution": {
     "iopub.execute_input": "2023-08-29T23:23:20.362590Z",
     "iopub.status.busy": "2023-08-29T23:23:20.362012Z",
     "iopub.status.idle": "2023-08-29T23:23:20.388544Z",
     "shell.execute_reply": "2023-08-29T23:23:20.387133Z"
    },
    "papermill": {
     "duration": 0.050475,
     "end_time": "2023-08-29T23:23:20.391700",
     "exception": false,
     "start_time": "2023-08-29T23:23:20.341225",
     "status": "completed"
    },
    "tags": []
   },
   "outputs": [
    {
     "data": {
      "text/html": [
       "<div>\n",
       "<style scoped>\n",
       "    .dataframe tbody tr th:only-of-type {\n",
       "        vertical-align: middle;\n",
       "    }\n",
       "\n",
       "    .dataframe tbody tr th {\n",
       "        vertical-align: top;\n",
       "    }\n",
       "\n",
       "    .dataframe thead th {\n",
       "        text-align: right;\n",
       "    }\n",
       "</style>\n",
       "<table border=\"1\" class=\"dataframe\">\n",
       "  <thead>\n",
       "    <tr style=\"text-align: right;\">\n",
       "      <th></th>\n",
       "      <th>VALOR REALIZADO</th>\n",
       "    </tr>\n",
       "    <tr>\n",
       "      <th>DETALHAMENTO</th>\n",
       "      <th></th>\n",
       "    </tr>\n",
       "  </thead>\n",
       "  <tbody>\n",
       "    <tr>\n",
       "      <th>TIT.RESP.TN-REFIN.DIV.PUB.FED.MERC.INT.-PRINC</th>\n",
       "      <td>1550.09</td>\n",
       "    </tr>\n",
       "    <tr>\n",
       "      <th>TITULOS DE RESPONS.TES.NAC.-MERC.INT.-PRINC.</th>\n",
       "      <td>358.27</td>\n",
       "    </tr>\n",
       "    <tr>\n",
       "      <th>OP.DE CREDITO CONTRATUAIS-MERC.EXTERNO-PRINC.</th>\n",
       "      <td>14.85</td>\n",
       "    </tr>\n",
       "    <tr>\n",
       "      <th>TITULOS DE RESPONS.TES.NAC.-MERC.EXT.-PRINC.</th>\n",
       "      <td>8.65</td>\n",
       "    </tr>\n",
       "    <tr>\n",
       "      <th>TIT.RESP.TN-REFIN.DIV.PUB.FED.MERC.EXT.-PRINC</th>\n",
       "      <td>3.15</td>\n",
       "    </tr>\n",
       "    <tr>\n",
       "      <th>TIT.RESP.TN-REFIN.DIV.PUB.FED.INT-PRINC-INTRA</th>\n",
       "      <td>0.45</td>\n",
       "    </tr>\n",
       "  </tbody>\n",
       "</table>\n",
       "</div>"
      ],
      "text/plain": [
       "                                               VALOR REALIZADO\n",
       "DETALHAMENTO                                                  \n",
       "TIT.RESP.TN-REFIN.DIV.PUB.FED.MERC.INT.-PRINC          1550.09\n",
       "TITULOS DE RESPONS.TES.NAC.-MERC.INT.-PRINC.            358.27\n",
       "OP.DE CREDITO CONTRATUAIS-MERC.EXTERNO-PRINC.            14.85\n",
       "TITULOS DE RESPONS.TES.NAC.-MERC.EXT.-PRINC.              8.65\n",
       "TIT.RESP.TN-REFIN.DIV.PUB.FED.MERC.EXT.-PRINC             3.15\n",
       "TIT.RESP.TN-REFIN.DIV.PUB.FED.INT-PRINC-INTRA             0.45"
      ]
     },
     "execution_count": 23,
     "metadata": {},
     "output_type": "execute_result"
    }
   ],
   "source": [
    "dados_cred = dados_eco[dados_eco['ORIGEM RECEITA'] == 'Operações de Crédito']\n",
    "dados_cred_agrupados = dados_cred.groupby(['DETALHAMENTO'])\n",
    "dados_cred_agrupados_resultado = dados_cred_agrupados['VALOR REALIZADO'].sum()\n",
    "dados_cred_agrupados_resultado = pd.DataFrame(dados_cred_agrupados_resultado)\n",
    "dados_cred_agrupados_resultado.sort_values(by = 'VALOR REALIZADO', ascending=False, inplace=True)\n",
    "dados_cred_agrupados_resultado['VALOR REALIZADO'] = dados_cred_agrupados_resultado['VALOR REALIZADO'] / 1000000000\n",
    "dados_cred_agrupados_resultado"
   ]
  },
  {
   "cell_type": "code",
   "execution_count": 24,
   "id": "302452a3",
   "metadata": {
    "execution": {
     "iopub.execute_input": "2023-08-29T23:23:20.432501Z",
     "iopub.status.busy": "2023-08-29T23:23:20.431528Z",
     "iopub.status.idle": "2023-08-29T23:23:20.663572Z",
     "shell.execute_reply": "2023-08-29T23:23:20.661980Z"
    },
    "papermill": {
     "duration": 0.256009,
     "end_time": "2023-08-29T23:23:20.666742",
     "exception": false,
     "start_time": "2023-08-29T23:23:20.410733",
     "status": "completed"
    },
    "tags": []
   },
   "outputs": [
    {
     "data": {
      "text/plain": [
       "Text(0.5, 1.0, 'Operações de Crédito feitos do Ministério da Economia')"
      ]
     },
     "execution_count": 24,
     "metadata": {},
     "output_type": "execute_result"
    },
    {
     "data": {
      "image/png": "[encoded data removed]",
      "text/plain": [
       "<Figure size 576x576 with 1 Axes>"
      ]
     },
     "metadata": {},
     "output_type": "display_data"
    }
   ],
   "source": [
    "fig = plt.figure(figsize=(8,8))\n",
    "eixo = fig.add_axes([0,0,1,1])\n",
    "Divida_pub = dados_cred_agrupados_resultado.loc[['TIT.RESP.TN-REFIN.DIV.PUB.FED.MERC.INT.-PRINC','TITULOS DE RESPONS.TES.NAC.-MERC.INT.-PRINC.']]\n",
    "Outros = dados_cred_agrupados_resultado.drop(['TIT.RESP.TN-REFIN.DIV.PUB.FED.MERC.INT.-PRINC',\n",
    "                                             'TITULOS DE RESPONS.TES.NAC.-MERC.INT.-PRINC.'])\n",
    "Outros = Outros['VALOR REALIZADO'].sum()\n",
    "Refinanciamento = Divida_pub['VALOR REALIZADO'][0]\n",
    "Nova_Divida = Divida_pub['VALOR REALIZADO'][1]\n",
    "\n",
    "\n",
    "eixo.pie([Refinanciamento, Nova_Divida, Outros],labels =['Refinanciamento da Dívida Pública',\n",
    "                                                                             'Novos títulos da Dívida Pública','Outros'],\n",
    "         autopct='%.1f%%', explode=[0, 0.1, 0.2])\n",
    "eixo.set_title('Operações de Crédito feitos do Ministério da Economia', fontsize=20)\n"
   ]
  },
  {
   "cell_type": "code",
   "execution_count": 25,
   "id": "c9dc916d",
   "metadata": {
    "execution": {
     "iopub.execute_input": "2023-08-29T23:23:20.709194Z",
     "iopub.status.busy": "2023-08-29T23:23:20.707950Z",
     "iopub.status.idle": "2023-08-29T23:23:20.721864Z",
     "shell.execute_reply": "2023-08-29T23:23:20.720863Z"
    },
    "papermill": {
     "duration": 0.038183,
     "end_time": "2023-08-29T23:23:20.724699",
     "exception": false,
     "start_time": "2023-08-29T23:23:20.686516",
     "status": "completed"
    },
    "tags": []
   },
   "outputs": [
    {
     "data": {
      "text/html": [
       "<div>\n",
       "<style scoped>\n",
       "    .dataframe tbody tr th:only-of-type {\n",
       "        vertical-align: middle;\n",
       "    }\n",
       "\n",
       "    .dataframe tbody tr th {\n",
       "        vertical-align: top;\n",
       "    }\n",
       "\n",
       "    .dataframe thead th {\n",
       "        text-align: right;\n",
       "    }\n",
       "</style>\n",
       "<table border=\"1\" class=\"dataframe\">\n",
       "  <thead>\n",
       "    <tr style=\"text-align: right;\">\n",
       "      <th></th>\n",
       "      <th>VALOR REALIZADO</th>\n",
       "    </tr>\n",
       "    <tr>\n",
       "      <th>NOME ÓRGÃO SUPERIOR</th>\n",
       "      <th></th>\n",
       "    </tr>\n",
       "  </thead>\n",
       "  <tbody>\n",
       "    <tr>\n",
       "      <th>Ministério da Educação</th>\n",
       "      <td>30.48</td>\n",
       "    </tr>\n",
       "    <tr>\n",
       "      <th>Ministério da Infraestrutura</th>\n",
       "      <td>19.29</td>\n",
       "    </tr>\n",
       "    <tr>\n",
       "      <th>Ministério da Defesa</th>\n",
       "      <td>14.22</td>\n",
       "    </tr>\n",
       "    <tr>\n",
       "      <th>Ministério de Minas e Energia</th>\n",
       "      <td>14.02</td>\n",
       "    </tr>\n",
       "    <tr>\n",
       "      <th>Ministério da Agricultura, Pecuária e Abastec</th>\n",
       "      <td>6.02</td>\n",
       "    </tr>\n",
       "    <tr>\n",
       "      <th>Ministério da Ciência, Tecnologia, Inovações</th>\n",
       "      <td>4.22</td>\n",
       "    </tr>\n",
       "    <tr>\n",
       "      <th>Ministério da Justiça e Segurança Pública</th>\n",
       "      <td>4.10</td>\n",
       "    </tr>\n",
       "    <tr>\n",
       "      <th>Presidência da República</th>\n",
       "      <td>2.42</td>\n",
       "    </tr>\n",
       "    <tr>\n",
       "      <th>Ministério das Comunicações</th>\n",
       "      <td>2.13</td>\n",
       "    </tr>\n",
       "    <tr>\n",
       "      <th>Ministério do Desenvolvimento Regional</th>\n",
       "      <td>2.08</td>\n",
       "    </tr>\n",
       "    <tr>\n",
       "      <th>Ministério da Saúde</th>\n",
       "      <td>1.91</td>\n",
       "    </tr>\n",
       "    <tr>\n",
       "      <th>Ministério da Cidadania</th>\n",
       "      <td>1.69</td>\n",
       "    </tr>\n",
       "    <tr>\n",
       "      <th>Ministério do Turismo</th>\n",
       "      <td>1.63</td>\n",
       "    </tr>\n",
       "    <tr>\n",
       "      <th>Ministério do Meio Ambiente</th>\n",
       "      <td>1.07</td>\n",
       "    </tr>\n",
       "    <tr>\n",
       "      <th>Ministério das Relações Exteriores</th>\n",
       "      <td>0.14</td>\n",
       "    </tr>\n",
       "    <tr>\n",
       "      <th>Ministério da Mulher, Família e Direitos Huma</th>\n",
       "      <td>0.01</td>\n",
       "    </tr>\n",
       "    <tr>\n",
       "      <th>Ministério das Mulheres, Igualdade Racial, da</th>\n",
       "      <td>0.00</td>\n",
       "    </tr>\n",
       "    <tr>\n",
       "      <th>Controladoria-Geral da União</th>\n",
       "      <td>0.00</td>\n",
       "    </tr>\n",
       "    <tr>\n",
       "      <th>Advocacia-Geral da União</th>\n",
       "      <td>0.00</td>\n",
       "    </tr>\n",
       "  </tbody>\n",
       "</table>\n",
       "</div>"
      ],
      "text/plain": [
       "                                               VALOR REALIZADO\n",
       "NOME ÓRGÃO SUPERIOR                                           \n",
       "Ministério da Educação                                   30.48\n",
       "Ministério da Infraestrutura                             19.29\n",
       "Ministério da Defesa                                     14.22\n",
       "Ministério de Minas e Energia                            14.02\n",
       "Ministério da Agricultura, Pecuária e Abastec             6.02\n",
       "Ministério da Ciência, Tecnologia, Inovações              4.22\n",
       "Ministério da Justiça e Segurança Pública                 4.10\n",
       "Presidência da República                                  2.42\n",
       "Ministério das Comunicações                               2.13\n",
       "Ministério do Desenvolvimento Regional                    2.08\n",
       "Ministério da Saúde                                       1.91\n",
       "Ministério da Cidadania                                   1.69\n",
       "Ministério do Turismo                                     1.63\n",
       "Ministério do Meio Ambiente                               1.07\n",
       "Ministério das Relações Exteriores                        0.14\n",
       "Ministério da Mulher, Família e Direitos Huma             0.01\n",
       "Ministério das Mulheres, Igualdade Racial, da             0.00\n",
       "Controladoria-Geral da União                              0.00\n",
       "Advocacia-Geral da União                                  0.00"
      ]
     },
     "execution_count": 25,
     "metadata": {},
     "output_type": "execute_result"
    }
   ],
   "source": [
    "total_gastos_sem_eco['VALOR REALIZADO'] = total_gastos_sem_eco['VALOR REALIZADO']/1000000000\n",
    "total_gastos_sem_eco"
   ]
  },
  {
   "cell_type": "code",
   "execution_count": 26,
   "id": "a8337e90",
   "metadata": {
    "execution": {
     "iopub.execute_input": "2023-08-29T23:23:20.770314Z",
     "iopub.status.busy": "2023-08-29T23:23:20.769434Z",
     "iopub.status.idle": "2023-08-29T23:23:21.322143Z",
     "shell.execute_reply": "2023-08-29T23:23:21.320484Z"
    },
    "papermill": {
     "duration": 0.580285,
     "end_time": "2023-08-29T23:23:21.325729",
     "exception": false,
     "start_time": "2023-08-29T23:23:20.745444",
     "status": "completed"
    },
    "tags": []
   },
   "outputs": [
    {
     "data": {
      "image/png": "[encoded data removed]",
      "text/plain": [
       "<Figure size 864x720 with 1 Axes>"
      ]
     },
     "metadata": {
      "needs_background": "light"
     },
     "output_type": "display_data"
    }
   ],
   "source": [
    "fig = plt.figure(figsize=(12,10))\n",
    "\n",
    "ax = sns.barplot(data = total_gastos_sem_eco, x='VALOR REALIZADO', \n",
    "                 y=total_gastos_sem_eco.index)\n",
    "ax.set_title('Receitas dos outros Órgãos', fontsize=30)\n",
    "ax.set_xlabel('Valor Realizado em bilhões de reais',fontsize=18)\n",
    "ax.bar_label(ax.containers[0], fmt='%d', padding=0)\n",
    "ax.ticklabel_format(style='plain', axis='x')"
   ]
  },
  {
   "cell_type": "code",
   "execution_count": 27,
   "id": "aebe4a4f",
   "metadata": {
    "execution": {
     "iopub.execute_input": "2023-08-29T23:23:21.373451Z",
     "iopub.status.busy": "2023-08-29T23:23:21.372082Z",
     "iopub.status.idle": "2023-08-29T23:23:21.453892Z",
     "shell.execute_reply": "2023-08-29T23:23:21.452553Z"
    },
    "papermill": {
     "duration": 0.109469,
     "end_time": "2023-08-29T23:23:21.456989",
     "exception": false,
     "start_time": "2023-08-29T23:23:21.347520",
     "status": "completed"
    },
    "tags": []
   },
   "outputs": [
    {
     "data": {
      "text/html": [
       "<div>\n",
       "<style scoped>\n",
       "    .dataframe tbody tr th:only-of-type {\n",
       "        vertical-align: middle;\n",
       "    }\n",
       "\n",
       "    .dataframe tbody tr th {\n",
       "        vertical-align: top;\n",
       "    }\n",
       "\n",
       "    .dataframe thead th {\n",
       "        text-align: right;\n",
       "    }\n",
       "</style>\n",
       "<table border=\"1\" class=\"dataframe\">\n",
       "  <thead>\n",
       "    <tr style=\"text-align: right;\">\n",
       "      <th></th>\n",
       "      <th>VALOR REALIZADO</th>\n",
       "    </tr>\n",
       "    <tr>\n",
       "      <th>ORIGEM RECEITA</th>\n",
       "      <th></th>\n",
       "    </tr>\n",
       "  </thead>\n",
       "  <tbody>\n",
       "    <tr>\n",
       "      <th>Contribuições</th>\n",
       "      <td>38.18</td>\n",
       "    </tr>\n",
       "    <tr>\n",
       "      <th>Receita Patrimonial</th>\n",
       "      <td>27.92</td>\n",
       "    </tr>\n",
       "    <tr>\n",
       "      <th>Amortizações de Empréstimos</th>\n",
       "      <td>16.39</td>\n",
       "    </tr>\n",
       "    <tr>\n",
       "      <th>Receita de Serviços</th>\n",
       "      <td>9.36</td>\n",
       "    </tr>\n",
       "    <tr>\n",
       "      <th>Outras Receitas Correntes</th>\n",
       "      <td>8.06</td>\n",
       "    </tr>\n",
       "    <tr>\n",
       "      <th>Impostos, Taxas e Contribuições de Melhoria</th>\n",
       "      <td>2.21</td>\n",
       "    </tr>\n",
       "    <tr>\n",
       "      <th>Receita Industrial</th>\n",
       "      <td>1.75</td>\n",
       "    </tr>\n",
       "    <tr>\n",
       "      <th>Operações de Crédito</th>\n",
       "      <td>1.22</td>\n",
       "    </tr>\n",
       "    <tr>\n",
       "      <th>Transferências Correntes</th>\n",
       "      <td>0.16</td>\n",
       "    </tr>\n",
       "    <tr>\n",
       "      <th>Alienação de Bens</th>\n",
       "      <td>0.14</td>\n",
       "    </tr>\n",
       "    <tr>\n",
       "      <th>Receita Agropecuária</th>\n",
       "      <td>0.03</td>\n",
       "    </tr>\n",
       "    <tr>\n",
       "      <th>Transferências de Capital</th>\n",
       "      <td>0.00</td>\n",
       "    </tr>\n",
       "  </tbody>\n",
       "</table>\n",
       "</div>"
      ],
      "text/plain": [
       "                                             VALOR REALIZADO\n",
       "ORIGEM RECEITA                                              \n",
       "Contribuições                                          38.18\n",
       "Receita Patrimonial                                    27.92\n",
       "Amortizações de Empréstimos                            16.39\n",
       "Receita de Serviços                                     9.36\n",
       "Outras Receitas Correntes                               8.06\n",
       "Impostos, Taxas e Contribuições de Melhoria             2.21\n",
       "Receita Industrial                                      1.75\n",
       "Operações de Crédito                                    1.22\n",
       "Transferências Correntes                                0.16\n",
       "Alienação de Bens                                       0.14\n",
       "Receita Agropecuária                                    0.03\n",
       "Transferências de Capital                               0.00"
      ]
     },
     "execution_count": 27,
     "metadata": {},
     "output_type": "execute_result"
    }
   ],
   "source": [
    "dados_sem_eco = dados_21[dados_21['NOME ÓRGÃO SUPERIOR'] != 'Ministério da Economia']\n",
    "dados_por_origem = dados_sem_eco.groupby(['ORIGEM RECEITA'])\n",
    "dados_por_origem_resultado = dados_por_origem['VALOR REALIZADO'].sum()\n",
    "dados_por_origem_resultado = pd.DataFrame(dados_por_origem_resultado)\n",
    "dados_por_origem_resultado.sort_values(by = 'VALOR REALIZADO', ascending=False, inplace=True)\n",
    "#Receitas correntes a classificar com valor negativo parece indicar que são receitas ainda não classificadas\n",
    "#e que não devem ser consideradas. Em todo caso, vou retirar o valor negativo que não parece ajudar na análise\n",
    "#assim como o zero sem informação.\n",
    "dados_por_origem_resultado.drop(['Sem informação', 'Receitas Correntes - a classificar'], inplace=True)\n",
    "dados_por_origem_resultado['VALOR REALIZADO'] = dados_por_origem_resultado['VALOR REALIZADO']/1000000000\n",
    "dados_por_origem_resultado"
   ]
  },
  {
   "cell_type": "code",
   "execution_count": 28,
   "id": "f66bb96c",
   "metadata": {
    "execution": {
     "iopub.execute_input": "2023-08-29T23:23:21.503013Z",
     "iopub.status.busy": "2023-08-29T23:23:21.502521Z",
     "iopub.status.idle": "2023-08-29T23:23:21.948008Z",
     "shell.execute_reply": "2023-08-29T23:23:21.946326Z"
    },
    "papermill": {
     "duration": 0.472276,
     "end_time": "2023-08-29T23:23:21.951731",
     "exception": false,
     "start_time": "2023-08-29T23:23:21.479455",
     "status": "completed"
    },
    "tags": []
   },
   "outputs": [
    {
     "data": {
      "image/png": "[encoded data removed]",
      "text/plain": [
       "<Figure size 864x720 with 1 Axes>"
      ]
     },
     "metadata": {
      "needs_background": "light"
     },
     "output_type": "display_data"
    }
   ],
   "source": [
    "fig = plt.figure(figsize=(12,10))\n",
    "\n",
    "ax = sns.barplot(data = dados_por_origem_resultado, x='VALOR REALIZADO', \n",
    "                 y=dados_por_origem_resultado.index)\n",
    "ax.set_title('Origens da Receita dos outros órgãos', fontsize=30)\n",
    "ax.set_xlabel('Valor Realizado em bilhões de reais',fontsize=20)\n",
    "ax.bar_label(ax.containers[0], fmt='%d', padding=0)\n",
    "ax.ticklabel_format(style='plain', axis='x')"
   ]
  },
  {
   "cell_type": "code",
   "execution_count": 29,
   "id": "b5c8e873",
   "metadata": {
    "execution": {
     "iopub.execute_input": "2023-08-29T23:23:22.003995Z",
     "iopub.status.busy": "2023-08-29T23:23:22.003491Z",
     "iopub.status.idle": "2023-08-29T23:23:22.045494Z",
     "shell.execute_reply": "2023-08-29T23:23:22.044123Z"
    },
    "papermill": {
     "duration": 0.07206,
     "end_time": "2023-08-29T23:23:22.049152",
     "exception": false,
     "start_time": "2023-08-29T23:23:21.977092",
     "status": "completed"
    },
    "tags": []
   },
   "outputs": [
    {
     "data": {
      "text/html": [
       "<div>\n",
       "<style scoped>\n",
       "    .dataframe tbody tr th:only-of-type {\n",
       "        vertical-align: middle;\n",
       "    }\n",
       "\n",
       "    .dataframe tbody tr th {\n",
       "        vertical-align: top;\n",
       "    }\n",
       "\n",
       "    .dataframe thead th {\n",
       "        text-align: right;\n",
       "    }\n",
       "</style>\n",
       "<table border=\"1\" class=\"dataframe\">\n",
       "  <thead>\n",
       "    <tr style=\"text-align: right;\">\n",
       "      <th></th>\n",
       "      <th>VALOR REALIZADO</th>\n",
       "    </tr>\n",
       "    <tr>\n",
       "      <th>DETALHAMENTO</th>\n",
       "      <th></th>\n",
       "    </tr>\n",
       "  </thead>\n",
       "  <tbody>\n",
       "    <tr>\n",
       "      <th>CONTRIB.SOCIAL DO SALARIO-EDUCACAO-PRINCIPAL</th>\n",
       "      <td>18.94</td>\n",
       "    </tr>\n",
       "    <tr>\n",
       "      <th>COTA-PARTE DO AFRMM-PRINCIPAL</th>\n",
       "      <td>7.40</td>\n",
       "    </tr>\n",
       "    <tr>\n",
       "      <th>CONTR.P/CUST.PENS.MILIT.FORCAS ARMADAS-PRINC.</th>\n",
       "      <td>7.05</td>\n",
       "    </tr>\n",
       "    <tr>\n",
       "      <th>CONTRIBUICAO INDUSTRIAL RURAL-PRINCIPAL</th>\n",
       "      <td>1.27</td>\n",
       "    </tr>\n",
       "    <tr>\n",
       "      <th>CONTR.S/REC.CONCESS.PERM.ENERG.ELETR.-PRINC.</th>\n",
       "      <td>0.88</td>\n",
       "    </tr>\n",
       "    <tr>\n",
       "      <th>...</th>\n",
       "      <td>...</td>\n",
       "    </tr>\n",
       "    <tr>\n",
       "      <th>COTA-PARTE DO AFRMM-DIVIDA ATIVA</th>\n",
       "      <td>0.00</td>\n",
       "    </tr>\n",
       "    <tr>\n",
       "      <th>COTA-PARTE DO AFRMM-DIVIDA ATIVA-MUL.JUR.</th>\n",
       "      <td>0.00</td>\n",
       "    </tr>\n",
       "    <tr>\n",
       "      <th>CIDE-REMESSAS AO EXTERIOR-DIVIDA ATIVA</th>\n",
       "      <td>0.00</td>\n",
       "    </tr>\n",
       "    <tr>\n",
       "      <th>CONT.S/APOSTAS EM COMPETICOES HIPICAS-DIV.AT.</th>\n",
       "      <td>0.00</td>\n",
       "    </tr>\n",
       "    <tr>\n",
       "      <th>RECEITA VEICULACAO DE OBRAS CINEMATOGRAFICAS</th>\n",
       "      <td>0.00</td>\n",
       "    </tr>\n",
       "  </tbody>\n",
       "</table>\n",
       "<p>65 rows × 1 columns</p>\n",
       "</div>"
      ],
      "text/plain": [
       "                                               VALOR REALIZADO\n",
       "DETALHAMENTO                                                  \n",
       "CONTRIB.SOCIAL DO SALARIO-EDUCACAO-PRINCIPAL             18.94\n",
       "COTA-PARTE DO AFRMM-PRINCIPAL                             7.40\n",
       "CONTR.P/CUST.PENS.MILIT.FORCAS ARMADAS-PRINC.             7.05\n",
       "CONTRIBUICAO INDUSTRIAL RURAL-PRINCIPAL                   1.27\n",
       "CONTR.S/REC.CONCESS.PERM.ENERG.ELETR.-PRINC.              0.88\n",
       "...                                                        ...\n",
       "COTA-PARTE DO AFRMM-DIVIDA ATIVA                          0.00\n",
       "COTA-PARTE DO AFRMM-DIVIDA ATIVA-MUL.JUR.                 0.00\n",
       "CIDE-REMESSAS AO EXTERIOR-DIVIDA ATIVA                    0.00\n",
       "CONT.S/APOSTAS EM COMPETICOES HIPICAS-DIV.AT.             0.00\n",
       "RECEITA VEICULACAO DE OBRAS CINEMATOGRAFICAS              0.00\n",
       "\n",
       "[65 rows x 1 columns]"
      ]
     },
     "execution_count": 29,
     "metadata": {},
     "output_type": "execute_result"
    }
   ],
   "source": [
    "dados_contribuicoes = dados_sem_eco[dados_sem_eco['ORIGEM RECEITA'] == 'Contribuições']\n",
    "dados_cont_agrupados = dados_contribuicoes.groupby('DETALHAMENTO')\n",
    "dados_cont_agrupados_soma = dados_cont_agrupados['VALOR REALIZADO'].sum()\n",
    "dados_cont_agrupados_soma = pd.DataFrame(dados_cont_agrupados_soma)\n",
    "dados_cont_agrupados_soma.sort_values(by = 'VALOR REALIZADO', ascending=False, inplace=True)\n",
    "dados_cont_agrupados_soma['VALOR REALIZADO'] = dados_cont_agrupados_soma['VALOR REALIZADO']/1000000000\n",
    "dados_cont_agrupados_soma"
   ]
  },
  {
   "cell_type": "code",
   "execution_count": 30,
   "id": "34e44ff0",
   "metadata": {
    "execution": {
     "iopub.execute_input": "2023-08-29T23:23:22.100428Z",
     "iopub.status.busy": "2023-08-29T23:23:22.099881Z",
     "iopub.status.idle": "2023-08-29T23:23:22.404692Z",
     "shell.execute_reply": "2023-08-29T23:23:22.403051Z"
    },
    "papermill": {
     "duration": 0.334839,
     "end_time": "2023-08-29T23:23:22.407751",
     "exception": false,
     "start_time": "2023-08-29T23:23:22.072912",
     "status": "completed"
    },
    "tags": []
   },
   "outputs": [
    {
     "data": {
      "image/png": "[encoded data removed]",
      "text/plain": [
       "<Figure size 864x720 with 1 Axes>"
      ]
     },
     "metadata": {
      "needs_background": "light"
     },
     "output_type": "display_data"
    }
   ],
   "source": [
    "#Como são muitos, vamos visualizar o top 10\n",
    "top_10_cont_agrupado = dados_cont_agrupados_soma.head(4)\n",
    "fig = plt.figure(figsize=(12,10))\n",
    "\n",
    "ax = sns.barplot(data = top_10_cont_agrupado, x='VALOR REALIZADO', \n",
    "                 y=top_10_cont_agrupado.index)\n",
    "ax.set_title('Detalhamento das Contribuições', fontsize=30)\n",
    "ax.set_xlabel('Valor Realizado em bilhões de reais',fontsize=20)\n",
    "ax.bar_label(ax.containers[0], fmt='%d', padding=0)\n",
    "ax.ticklabel_format(style='plain', axis='x')"
   ]
  },
  {
   "cell_type": "markdown",
   "id": "930112d7",
   "metadata": {
    "papermill": {
     "duration": 0.023526,
     "end_time": "2023-08-29T23:23:22.454391",
     "exception": false,
     "start_time": "2023-08-29T23:23:22.430865",
     "status": "completed"
    },
    "tags": []
   },
   "source": [
    "Como esperado, as receitas são em sua maioria coletadas pelo Ministério da Economia e advém primariamente das __operações de crédito__, seguidos de __contribuições__ e __impostos, taxas e contribuições de melhoria__. Dentre as __operações de crédito__, as principais rendas vieram de __refinanciamento da dívida pública__ e emissão de novos __títulos da dívida pública__. \n",
    "\n",
    "* __A primeira conclusão__ é que o governo acabou aumentando o endividamento interno no ano de 2021, o que não representa um problema em si, pois é preciso avaliar o crescimento do PIB. Sabendo-se que o PIB cresceu em 4,1% e esse aumento da dívida representa mais que o dobro das contribuições, é fácil assumir que a dívida aumentou mais que o PIB. Alguns fatores podem justificar isso, a grave recessão imposta pela pandemia, a alta demanda de gastos públicos impostos pela pandemia. É importante atentar, também, para o fato de que a dependência de títulos da dívida pública para o orçamento do país pode ser sinal de instabilidade, mas nem sempre. O déficit primário ocorrido em 2021 foi generalizado, resultados superavitários em média sinalizam um bom estado da economia para investidores externos, assim como sinais de crescimento. Portanto, esse dado é somente um aspecto negativo no cálculo do risco do Brasil para investidores. \n",
    "\n",
    "Dentre as principais fontes de arrecadação dos outros órgãos, destaca-se a __contribuição social do salário-educação__ e as cotas do __AFRMM__ que é um imposto de frete aquaviário. \n",
    "\n",
    "* __A segunda conclusão__ Os outros órgãos dependem do repasse e planejamento do Ministério da Economia, suas arrecadações próprias são bem inferiores e muito se distanciam das cifras principais. Ainda assim, impostos direcionados às empresas brasileiras parecem ter alguma relevância no orçamento de algums ministérios, como o da Educação. \n",
    "\n",
    "Dentre as principais fontes de arrecadação de contribuição total estão o COFINS, a contribuição previdenciária do empregador e do beneficiário. \n",
    "\n",
    "* __A terceira conclusão__ As empresas e os trabalhadores parecem estar arcando com o maior parte do orçamento do governo. Apesar dessas contribuições serem necessárias e saudáveis em um país, pois geram alguma redistribuição de renda, especialmente me setores sociais que demandam serviços públicos mais que outros setores, e podem aquecer a economia se bem aplicados, via multiplicador fiscal ou keynesiano; esses impostos geram um bocado de peso morto e podem desaquecer a economia. Enquanto o enxugamento de impostos é uma resposta possível, essa resposta desconsidera a grave deficiência de serviços públicos no país e a enorme desigualdade social, a qual precisa desse massivos investimentos públicos para ser mitigada. Uma forma eficaz de lidar com esse tipo de questões seria o aumento de impostos no topo da pirâmide, fortalecendo a taxação progressiva, em especial o que é chamato de imposto solidário (*impôt de solidaritê*) ou taxação de riqueza (*wealth tax*).\n",
    "\n"
   ]
  },
  {
   "cell_type": "code",
   "execution_count": null,
   "id": "614fe67a",
   "metadata": {
    "papermill": {
     "duration": 0.022964,
     "end_time": "2023-08-29T23:23:22.500541",
     "exception": false,
     "start_time": "2023-08-29T23:23:22.477577",
     "status": "completed"
    },
    "tags": []
   },
   "outputs": [],
   "source": []
  }
 ],
 "kernelspec": {
  "display_name": "Python 3",
  "language": "python",
  "name": "python3"
 },
 "language_info": {
  "codemirror_mode": {
   "name": "ipython",
   "version": 3
  },
  "file_extension": ".py",
  "mimetype": "text/x-python",
  "name": "python",
  "nbconvert_exporter": "python",
  "pygments_lexer": "ipython3",
  "version": "3.6.4"
 },
 "metadata": {
  "kernelspec": {
   "display_name": "Python 3",
   "language": "python",
   "name": "python3"
  },
  "language_info": {
   "codemirror_mode": {
    "name": "ipython",
    "version": 3
   },
   "file_extension": ".py",
   "mimetype": "text/x-python",
   "name": "python",
   "nbconvert_exporter": "python",
   "pygments_lexer": "ipython3",
   "version": "3.7.12"
  },
  "papermill": {
   "default_parameters": {},
   "duration": 23.745957,
   "end_time": "2023-08-29T23:23:23.649330",
   "environment_variables": {},
   "exception": null,
   "input_path": "__notebook__.ipynb",
   "output_path": "__notebook__.ipynb",
   "parameters": {},
   "start_time": "2023-08-29T23:22:59.903373",
   "version": "2.3.4"
  }
 },
 "nbformat": 4,
 "nbformat_minor": 5
}
